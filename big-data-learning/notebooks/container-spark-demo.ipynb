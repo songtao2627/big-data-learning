{
 "cells": [
  {
   "cell_type": "markdown",
   "metadata": {},
   "source": [
    "# 容器环境 Spark 开发演示\n",
    "\n",
    "这个 notebook 演示如何在容器化环境中使用 PySpark 进行开发。\n",
    "\n",
    "## 环境信息\n",
    "- 运行环境: Docker 容器\n",
    "- Spark 集群: spark://spark-master:7077\n",
    "- Python 包: 使用国内镜像源加速安装"
   ]
  },
  {
   "cell_type": "code",
   "execution_count": null,
   "metadata": {},
   "outputs": [],
   "source": [
    "# 导入必要的库\n",
    "import sys\n",
    "import os\n",
    "from datetime import datetime\n",
    "\n",
    "print(f\"Python 版本: {sys.version}\")\n",
    "print(f\"当前时间: {datetime.now()}\")\n",
    "print(f\"工作目录: {os.getcwd()}\")"
   ]
  },
  {
   "cell_type": "code",
   "execution_count": null,
   "metadata": {},
   "outputs": [],
   "source": [
    "# 使用预配置的 PySpark 初始化函数\n",
    "exec(open('/opt/bitnami/spark/notebooks/pyspark_init.py').read())\n",
    "\n",
    "# 创建 Spark 会话\n",
    "spark = create_spark_session(\"ContainerSparkDemo\")"
   ]
  },
  {
   "cell_type": "code",
   "execution_count": null,
   "metadata": {},
   "outputs": [],
   "source": [
    "# 创建示例数据\n",
    "data = [\n",
    "    (1, \"张三\", 25, \"北京\"),\n",
    "    (2, \"李四\", 30, \"上海\"),\n",
    "    (3, \"王五\", 35, \"广州\"),\n",
    "    (4, \"赵六\", 28, \"深圳\"),\n",
    "    (5, \"钱七\", 32, \"杭州\")\n",
    "]\n",
    "\n",
    "columns = [\"id\", \"name\", \"age\", \"city\"]\n",
    "df = spark.createDataFrame(data, columns)\n",
    "\n",
    "print(\"📊 创建的 DataFrame:\")\n",
    "df.show()"
   ]
  },
  {
   "cell_type": "code",
   "execution_count": null,
   "metadata": {},
   "outputs": [],
   "source": [
    "# DataFrame 基本操作\n",
    "print(\"📈 DataFrame 基本信息:\")\n",
    "print(f\"行数: {df.count()}\")\n",
    "print(f\"列数: {len(df.columns)}\")\n",
    "print(f\"列名: {df.columns}\")\n",
    "\n",
    "print(\"\\n📋 Schema 信息:\")\n",
    "df.printSchema()"
   ]
  },
  {
   "cell_type": "code",
   "execution_count": null,
   "metadata": {},
   "outputs": [],
   "source": [
    "# 数据过滤和转换\n",
    "from pyspark.sql.functions import col, avg, max, min\n",
    "\n",
    "# 过滤年龄大于 30 的记录\n",
    "older_people = df.filter(col(\"age\") > 30)\n",
    "print(\"🔍 年龄大于 30 的人员:\")\n",
    "older_people.show()\n",
    "\n",
    "# 计算统计信息\n",
    "stats = df.agg(\n",
    "    avg(\"age\").alias(\"平均年龄\"),\n",
    "    max(\"age\").alias(\"最大年龄\"),\n",
    "    min(\"age\").alias(\"最小年龄\")\n",
    ")\n",
    "\n",
    "print(\"📊 年龄统计:\")\n",
    "stats.show()"
   ]
  },
  {
   "cell_type": "code",
   "execution_count": null,
   "metadata": {},
   "outputs": [],
   "source": [
    "# 使用 Spark SQL\n",
    "df.createOrReplaceTempView(\"people\")\n",
    "\n",
    "# SQL 查询\n",
    "sql_result = spark.sql(\"\"\"\n",
    "    SELECT city, COUNT(*) as count, AVG(age) as avg_age\n",
    "    FROM people \n",
    "    GROUP BY city\n",
    "    ORDER BY avg_age DESC\n",
    "\"\"\")\n",
    "\n",
    "print(\"🏙️ 按城市统计:\")\n",
    "sql_result.show()"
   ]
  },
  {
   "cell_type": "code",
   "execution_count": null,
   "metadata": {},
   "outputs": [],
   "source": [
    "# 数据可视化 (使用 matplotlib)\n",
    "import matplotlib.pyplot as plt\n",
    "import pandas as pd\n",
    "\n",
    "# 转换为 Pandas DataFrame 进行可视化\n",
    "pandas_df = df.toPandas()\n",
    "\n",
    "# 创建年龄分布图\n",
    "plt.figure(figsize=(10, 6))\n",
    "\n",
    "plt.subplot(1, 2, 1)\n",
    "plt.bar(pandas_df['name'], pandas_df['age'])\n",
    "plt.title('年龄分布')\n",
    "plt.xlabel('姓名')\n",
    "plt.ylabel('年龄')\n",
    "plt.xticks(rotation=45)\n",
    "\n",
    "plt.subplot(1, 2, 2)\n",
    "city_counts = pandas_df['city'].value_counts()\n",
    "plt.pie(city_counts.values, labels=city_counts.index, autopct='%1.1f%%')\n",
    "plt.title('城市分布')\n",
    "\n",
    "plt.tight_layout()\n",
    "plt.show()\n",
    "\n",
    "print(\"📈 数据可视化完成\")"
   ]
  },
  {
   "cell_type": "code",
   "execution_count": null,
   "metadata": {},
   "outputs": [],
   "source": [
    "# 读取外部数据文件 (如果存在)\n",
    "data_path = \"/opt/bitnami/spark/data\"\n",
    "print(f\"📁 数据目录内容: {os.listdir(data_path)}\")\n",
    "\n",
    "# 尝试读取 CSV 文件 (如果存在)\n",
    "try:\n",
    "    # 这里可以读取你放在 data/ 目录下的文件\n",
    "    # csv_df = spark.read.csv(f\"{data_path}/your_file.csv\", header=True, inferSchema=True)\n",
    "    # csv_df.show(5)\n",
    "    print(\"💡 提示: 将你的数据文件放在 data/ 目录下，然后在这里读取\")\nexcept Exception as e:\n",
    "    print(f\"📝 注意: {str(e)}\")"
   ]
  },
  {
   "cell_type": "code",
   "execution_count": null,
   "metadata": {},
   "outputs": [],
   "source": [
    "# 集群信息和性能监控\n",
    "sc = spark.sparkContext\n",
    "\n",
    "print(\"🖥️  Spark 集群信息:\")\n",
    "print(f\"  应用名称: {sc.appName}\")\n",
    "print(f\"  应用 ID: {sc.applicationId}\")\n",
    "print(f\"  Master URL: {sc.master}\")\n",
    "print(f\"  Spark 版本: {sc.version}\")\n",
    "print(f\"  默认并行度: {sc.defaultParallelism}\")\n",
    "\n",
    "# 获取 Executor 信息\n",
    "executors = sc.statusTracker().getExecutorInfos()\n",
    "print(f\"  Executor 数量: {len(executors)}\")\n",
    "\n",
    "for executor in executors:\n",
    "    print(f\"    Executor {executor.executorId}: {executor.host}\")"
   ]
  },
  {
   "cell_type": "code",
   "execution_count": null,
   "metadata": {},
   "outputs": [],
   "source": [
    "# 清理资源\n",
    "spark.stop()\n",
    "print(\"✅ Spark 会话已关闭\")\n",
    "print(\"\\n🎉 容器环境 Spark 开发演示完成！\")\n",
    "print(\"\\n💡 下一步:\")\n",
    "print(\"  1. 探索 notebooks/ 目录下的其他教程\")\n",
    "print(\"  2. 将你的数据文件放在 data/ 目录下\")\n",
    "print(\"  3. 开始你的 Spark 学习项目\")"
   ]
  }
 ],
 "metadata": {
  "kernelspec": {
   "display_name": "Python 3",
   "language": "python",
   "name": "python3"
  },
  "language_info": {
   "codemirror_mode": {
    "name": "ipython",
    "version": 3
   },
   "file_extension": ".py",
   "mimetype": "text/x-python",
   "name": "python",
   "nbconvert_exporter": "python",
   "pygments_lexer": "ipython3",
   "version": "3.8.10"
  }
 },
 "nbformat": 4,
 "nbformat_minor": 4
}