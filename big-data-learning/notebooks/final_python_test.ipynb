{
 "cells": [
  {
   "cell_type": "markdown",
   "metadata": {},
   "source": [
    "# 最终Python命令测试\n",
    "\n",
    "此笔记本用于最终验证Python命令是否在Jupyter环境中正常工作。"
   ]
  },
  {
   "cell_type": "code",
   "execution_count": null,
   "metadata": {},
   "outputs": [],
   "source": [
    "# 测试1: 检查Python版本\n",
    "!python --version"
   ]
  },
  {
   "cell_type": "code",
   "execution_count": null,
   "metadata": {},
   "outputs": [],
   "source": [
    "# 测试2: 检查Python3版本\n",
    "!python3 --version"
   ]
  },
  {
   "cell_type": "code",
   "execution_count": null,
   "metadata": {},
   "outputs": [],
   "source": [
    "# 测试3: 检查环境变量\n",
    "import os\n",
    "print(\"当前PATH环境变量:\")\n",
    "print(os.environ.get('PATH'))"
   ]
  },
  {
   "cell_type": "code",
   "execution_count": null,
   "metadata": {},
   "outputs": [],
   "source": [
    "# 测试4: 使用Python运行简单脚本\n",
    "!python -c \"print('Hello from Python!')\""
   ]
  },
  {
   "cell_type": "code",
   "execution_count": null,
   "metadata": {},
   "outputs": [],
   "source": [
    "# 测试5: 检查是否可以导入常用库\n",
    "import sys\n",
    "import subprocess\n",
    "\n",
    "print(\"Python可执行文件路径:\", sys.executable)\n",
    "print(\"Python版本:\", sys.version)\n",
    "\n",
    "# 检查是否可以运行Python模块\n",
    "try:\n",
    "    result = subprocess.run([sys.executable, \"-c\", \"import numpy; print('NumPy版本:', numpy.__version__)\"]\n",
    "                            , capture_output=True, text=True)\n",
    "    if result.returncode == 0:\n",
    "        print(result.stdout)\n",
    "    else:\n",
    "        print(\"执行出错:\", result.stderr)\n",
    "except Exception as e:\n",
    "    print(\"发生异常:\", e)"
   ]
  },
  {
   "cell_type": "markdown",
   "metadata": {},
   "source": [
    "如果以上所有测试都成功执行并显示正确的输出，说明Python环境已经配置正确，问题已解决。"
   ]
  }
 ],
 "metadata": {
  "kernelspec": {
   "display_name": "Python 3",
   "language": "python",
   "name": "python3"
  },
  "language_info": {
   "codemirror_mode": {
    "name": "ipython",
    "version": 3
   },
   "file_extension": ".py",
   "mimetype": "text/x-python",
   "name": "python",
   "nbconvert_exporter": "python",
   "pygments_lexer": "ipython3",
   "version": "3.11.6"
  }
 },
 "nbformat": 4,
 "nbformat_minor": 4
}