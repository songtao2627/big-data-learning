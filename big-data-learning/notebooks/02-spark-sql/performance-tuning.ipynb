{
 "cells": [
  {
   "cell_type": "markdown",
   "metadata": {},
   "source": [
    "# Spark SQL 性能调优实践\n",
    "\n",
    "本教程将通过实际案例演示Spark SQL的性能调优技术。\n",
    "\n",
    "## 学习目标\n",
    "\n",
    "1. 理解Spark SQL执行计划\n",
    "2. 识别和解决性能瓶颈\n",
    "3. 掌握缓存和分区策略\n",
    "4. 处理数据倾斜问题\n",
    "5. 优化连接操作"
   ]
  },
  {
   "cell_type": "code",
   "execution_count": null,
   "metadata": {},
   "outputs": [],
   "source": [
    "from pyspark.sql import SparkSession\n",
    "from pyspark.sql.functions import *\n",
    "from pyspark.sql.types import *\n",
    "import time\n",
    "\n",
    "# 创建SparkSession with performance configurations\n",
    "spark = SparkSession.builder \\\n",
    "    .appName(\"Spark SQL Performance Tuning\") \\\n",
    "    .config(\"spark.sql.adaptive.enabled\", \"true\") \\\n",
    "    .config(\"spark.sql.adaptive.coalescePartitions.enabled\", \"true\") \\\n",
    "    .config(\"spark.sql.adaptive.skewJoin.enabled\", \"true\") \\\n",
    "    .config(\"spark.sql.autoBroadcastJoinThreshold\", \"10MB\") \\\n",
    "    .getOrCreate()\n",
    "\n",
    "spark.sparkContext.setLogLevel(\"WARN\")\n",
    "print(f\"Spark版本: {spark.version}\")\n",
    "print(\"性能调优环境准备完成\")"
   ]
  }
 ],
 "metadata": {
  "kernelspec": {
   "display_name": "Python 3",
   "language": "python",
   "name": "python3"
  },
  "language_info": {
   "codemirror_mode": {
    "name": "ipython",
    "version": 3
   },
   "file_extension": ".py",
   "mimetype": "text/x-python",
   "name": "python",
   "nbconvert_exporter": "python",
   "pygments_lexer": "ipython3",
   "version": "3.8.5"
  }
 },
 "nbformat": 4,
 "nbformat_minor": 4
}