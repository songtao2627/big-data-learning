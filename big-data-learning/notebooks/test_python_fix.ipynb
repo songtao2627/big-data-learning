{
 "cells": [
  {
   "cell_type": "markdown",
   "metadata": {},
   "source": [
    "# 测试修复Python环境问题\n",
    "\n",
    "这个笔记本用于测试和修复Jupyter Notebook中的Python环境问题。"
   ]
  },
  {
   "cell_type": "code",
   "execution_count": null,
   "metadata": {},
   "outputs": [],
   "source": [
    "# 导入必要的模块\n",
    "import os\n",
    "import sys\n",
    "import subprocess"
   ]
  },
  {
   "cell_type": "code",
   "execution_count": null,
   "metadata": {},
   "outputs": [],
   "source": [
    "# 检查当前环境变量\n",
    "print(\"当前PATH环境变量:\")\n",
    "print(os.environ.get('PATH', ''))"
   ]
  },
  {
   "cell_type": "code",
   "execution_count": null,
   "metadata": {},
   "outputs": [],
   "source": [
    "# 检查Python命令是否可用\n",
    "try:\n",
    "    result = subprocess.run([\"python\", \"--version\"], \n",
    "                          capture_output=True, text=True, timeout=5)\n",
    "    if result.returncode == 0:\n",
    "        print(f\"✅ Python命令可用: {result.stdout.strip()}\")\n",
    "    else:\n",
    "        print(\"❌ Python命令不可用\")\n",
    "        print(f\"错误信息: {result.stderr}\")\n",
    "except Exception as e:\n",
    "    print(f\"❌ 执行python命令时出错: {e}\")"
   ]
  },
  {
   "cell_type": "code",
   "execution_count": null,
   "metadata": {},
   "outputs": [],
   "source": [
    "# 检查python3命令是否可用\n",
    "try:\n",
    "    result = subprocess.run([\"python3\", \"--version\"], \n",
    "                          capture_output=True, text=True, timeout=5)\n",
    "    if result.returncode == 0:\n",
    "        print(f\"✅ Python3命令可用: {result.stdout.strip()}\")\n",
    "    else:\n",
    "        print(\"❌ Python3命令不可用\")\n",
    "        print(f\"错误信息: {result.stderr}\")\n",
    "except Exception as e:\n",
    "    print(f\"❌ 执行python3命令时出错: {e}\")"
   ]
  },
  {
   "cell_type": "code",
   "execution_count": null,
   "metadata": {},
   "outputs": [],
   "source": [
    "# 检查/opt/conda/bin/python是否存在\n",
    "conda_python_path = \"/opt/conda/bin/python\"\n",
    "if os.path.exists(conda_python_path):\n",
    "    print(f\"✅ {conda_python_path} 存在\")\n",
    "    \n",
    "    # 尝试直接执行\n",
    "    try:\n",
    "        result = subprocess.run([conda_python_path, \"--version\"], \n",
    "                              capture_output=True, text=True, timeout=5)\n",
    "        if result.returncode == 0:\n",
    "            print(f\"✅ 直接执行 {conda_python_path} 成功: {result.stdout.strip()}\")\n",
    "        else:\n",
    "            print(f\"❌ 直接执行 {conda_python_path} 失败\")\n",
    "            print(f\"错误信息: {result.stderr}\")\n",
    "    except Exception as e:\n",
    "        print(f\"❌ 直接执行 {conda_python_path} 时出错: {e}\")\n",
    "else:\n",
    "    print(f\"❌ {conda_python_path} 不存在\")"
   ]
  },
  {
   "cell_type": "code",
   "execution_count": null,
   "metadata": {},
   "outputs": [],
   "source": [
    "# 修复环境变量\n",
    "def fix_python_environment():\n",
    "    \"\"\"\n",
    "    修复Python环境问题\n",
    "    \"\"\"\n",
    "    # 确保/opt/conda/bin在PATH中\n",
    "    conda_bin_path = \"/opt/conda/bin\"\n",
    "    current_path = os.environ.get(\"PATH\", \"\")\n",
    "    \n",
    "    if conda_bin_path not in current_path:\n",
    "        os.environ[\"PATH\"] = f\"{conda_bin_path}:{current_path}\"\n",
    "        print(f\"✅ 已将 {conda_bin_path} 添加到 PATH\")\n",
    "        return True\n",
    "    else:\n",
    "        print(f\"✅ {conda_bin_path} 已在 PATH 中\")\n",
    "        return False\n",
    "\n",
    "# 执行修复\n",
    "path_updated = fix_python_environment()\n",
    "if path_updated:\n",
    "    print(\"\\n环境变量已更新，重新测试Python命令:\")\n",
    "    \n",
    "    # 再次检查Python命令\n",
    "    try:\n",
    "        result = subprocess.run([\"python\", \"--version\"], \n",
    "                              capture_output=True, text=True, timeout=5)\n",
    "        if result.returncode == 0:\n",
    "            print(f\"✅ Python命令现在可用: {result.stdout.strip()}\")\n",
    "        else:\n",
    "            print(\"❌ Python命令仍然不可用\")\n",
    "            print(f\"错误信息: {result.stderr}\")\n",
    "    except Exception as e:\n",
    "        print(f\"❌ 执行python命令时出错: {e}\")"
   ]
  }
 ],
 "metadata": {
  "kernelspec": {
   "display_name": "Python 3",
   "language": "python",
   "name": "python3"
  },
  "language_info": {
   "codemirror_mode": {
    "name": "ipython",
    "version": 3
   },
   "file_extension": ".py",
   "mimetype": "text/x-python",
   "name": "python",
   "nbconvert_exporter": "python",
   "pygments_lexer": "ipython3",
   "version": "3.11.6"
  }
 },
 "nbformat": 4,
 "nbformat_minor": 4
}