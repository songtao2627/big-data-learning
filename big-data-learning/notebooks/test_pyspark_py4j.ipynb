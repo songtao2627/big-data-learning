{
 "cells": [
  {
   "cell_type": "markdown",
   "metadata": {},
   "source": [
    "# 测试PySpark和py4j\n",
    "\n",
    "此笔记本用于验证PySpark和py4j是否在我们的自定义镜像中正常工作。"
   ]
  },
  {
   "cell_type": "code",
   "execution_count": 1,
   "metadata": {},
   "outputs": [
    {
     "name": "stdout",
     "output_type": "stream",
     "text": [
      "✅ py4j版本: 0.10.9.7\n"
     ]
    }
   ],
   "source": [
    "# 测试1: 检查py4j是否可以导入\n",
    "try:\n",
    "    import py4j\n",
    "    print(f\"✅ py4j版本: {py4j.__version__}\")\n",
    "except ImportError as e:\n",
    "    print(f\"❌ 无法导入py4j: {e}\")"
   ]
  },
  {
   "cell_type": "code",
   "execution_count": 2,
   "metadata": {},
   "outputs": [
    {
     "name": "stdout",
     "output_type": "stream",
     "text": [
      "✅ PySpark版本: 3.5.0\n"
     ]
    }
   ],
   "source": [
    "# 测试2: 检查PySpark是否可以导入\n",
    "try:\n",
    "    import pyspark\n",
    "    print(f\"✅ PySpark版本: {pyspark.__version__}\")\n",
    "except ImportError as e:\n",
    "    print(f\"❌ 无法导入PySpark: {e}\")"
   ]
  },
  {
   "cell_type": "code",
   "execution_count": null,
   "metadata": {},
   "outputs": [],
   "source": [
    "# 测试3: 创建SparkSession并运行简单任务\n",
    "import threading\n",
    "import time\n",
    "from pyspark.sql import SparkSession\n",
    "\n",
    "# 定义创建SparkSession的函数\n",
    "def create_spark_session_with_timeout(result_dict):\n",
    "    try:\n",
    "        print(\"正在创建SparkSession...\")\n",
    "        spark = SparkSession.builder \\\n",
    "            .appName(\"PySparkPy4jTest\") \\\n",
    "            .master(\"spark://spark-master:7077\") \\\n",
    "            .config(\"spark.sql.adaptive.enabled\", \"true\") \\\n",
    "            .config(\"spark.sql.adaptive.coalescePartitions.enabled\", \"true\") \\\n",
    "            .config(\"spark.network.timeout\", \"120s\") \\\n",
    "            .config(\"spark.sql.adaptive.coalescePartitions.enabled\", \"true\") \\\n",
    "            .getOrCreate()\n",
    "        \n",
    "        result_dict['status'] = 'success'\n",
    "        result_dict['spark'] = spark\n",
    "        print(\"✅ SparkSession创建成功\")\n",
    "        print(f\"Spark版本: {spark.version}\")\n",
    "        print(f\"应用ID: {spark.sparkContext.applicationId}\")\n",
    "        \n",
    "    except Exception as e:\n",
    "        result_dict['status'] = 'error'\n",
    "        result_dict['error'] = str(e)\n",
    "        print(f\"❌ 创建SparkSession时出错: {e}\")\n",
    "\n",
    "# 创建结果字典\n",
    "result = {}\n",
    "\n",
    "# 在单独的线程中创建SparkSession\n",
    "print(\"启动SparkSession创建线程...\")\n",
    "thread = threading.Thread(target=create_spark_session_with_timeout, args=(result,))\n",
    "thread.start()\n",
    "\n",
    "# 等待最多60秒\n",
    "timeout = 60\n",
    "start_time = time.time()\n",
    "\n",
    "while thread.is_alive() and (time.time() - start_time) < timeout:\n",
    "    elapsed = int(time.time() - start_time)\n",
    "    print(f\"等待SparkSession创建... ({elapsed}s)\")\n",
    "    time.sleep(5)\n",
    "\n",
    "if thread.is_alive():\n",
    "    print(\"❌ 创建SparkSession超时\")\n",
    "else:\n",
    "    if result.get('status') == 'success':\n",
    "        # 继续执行任务\n",
    "        spark = result['spark']\n",
    "        \n",
    "        # 创建简单的DataFrame\n",
    "        print(\"\\n创建测试DataFrame...\")\n",
    "        data = [(\"Alice\", 25), (\"Bob\", 30), (\"Charlie\", 35)]\n",
    "        columns = [\"Name\", \"Age\"]\n",
    "        df = spark.createDataFrame(data, columns)\n",
    "        \n",
    "        print(\"DataFrame内容:\")\n",
    "        df.show()\n",
    "        \n",
    "        # 执行简单操作\n",
    "        print(\"\\n计算平均年龄...\")\n",
    "        avg_age = df.agg({\"Age\": \"avg\"}).collect()[0][0]\n",
    "        print(f\"平均年龄: {avg_age}\")\n",
    "        \n",
    "        # 停止SparkSession\n",
    "        print(\"\\n正在停止SparkSession...\")\n",
    "        spark.stop()\n",
    "        print(\"✅ SparkSession已停止\")\n",
    "        \n",
    "    elif result.get('status') == 'error':\n",
    "        print(f\"❌ 创建SparkSession时出错: {result['error']}\")"
   ]
  },
  {
   "cell_type": "markdown",
   "metadata": {},
   "source": [
    "如果以上所有测试都成功执行并显示正确的输出，说明我们的自定义镜像已经正确配置，包含了所需的py4j模块，并且PySpark也能正常工作。"
   ]
  }
 ],
 "metadata": {
  "kernelspec": {
   "display_name": "Python 3 (ipykernel)",
   "language": "python",
   "name": "python3"
  },
  "language_info": {
   "codemirror_mode": {
    "name": "ipython",
    "version": 3
   },
   "file_extension": ".py",
   "mimetype": "text/x-python",
   "name": "python",
   "nbconvert_exporter": "python",
   "pygments_lexer": "ipython3",
   "version": "3.11.6"
  }
 },
 "nbformat": 4,
 "nbformat_minor": 4
}
