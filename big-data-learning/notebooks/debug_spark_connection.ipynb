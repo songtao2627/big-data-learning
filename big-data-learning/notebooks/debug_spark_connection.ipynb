{
 "cells": [
  {
   "cell_type": "markdown",
   "metadata": {},
   "source": [
    "# 调试PySpark连接问题\n",
    "\n",
    "此笔记本用于调试PySpark连接问题，逐步检查连接过程中的各个环节。"
   ]
  },
  {
   "cell_type": "code",
   "execution_count": null,
   "metadata": {},
   "outputs": [],
   "source": [
    "# 测试1: 检查PySpark是否可以导入\n",
    "try:\n",
    "    import pyspark\n",
    "    print(f\"✅ PySpark版本: {pyspark.__version__}\")\n",
    "except ImportError as e:\n",
    "    print(f\"❌ 无法导入PySpark: {e}\")"
   ]
  },
  {
   "cell_type": "code",
   "execution_count": null,
   "metadata": {},
   "outputs": [],
   "source": [
    "# 测试2: 检查py4j是否可以导入\n",
    "try:\n",
    "    import py4j\n",
    "    print(f\"✅ py4j版本: {py4j.__version__}\")\n",
    "except ImportError as e:\n",
    "    print(f\"❌ 无法导入py4j: {e}\")"
   ]
  },
  {
   "cell_type": "code",
   "execution_count": null,
   "metadata": {},
   "outputs": [],
   "source": [
    "# 测试3: 创建基本的SparkContext\n",
    "try:\n",
    "    from pyspark import SparkContext, SparkConf\n",
    "    \n",
    "    print(\"正在创建SparkConf...\")\n",
    "    conf = SparkConf().setAppName(\"DebugConnection\").setMaster(\"spark://spark-master:7077\")\n",
    "    print(\"SparkConf创建成功\")\n",
    "    \n",
    "    print(\"正在创建SparkContext...\")\n",
    "    sc = SparkContext(conf=conf)\n",
    "    print(\"✅ SparkContext创建成功\")\n",
    "    print(f\"Spark版本: {sc.version}\")\n",
    "    \n",
    "    print(\"正在停止SparkContext...\")\n",
    "    sc.stop()\n",
    "    print(\"✅ SparkContext已停止\")\n",
    "    \n",
    "except Exception as e:\n",
    "    print(f\"❌ 创建或使用SparkContext时出错: {e}\")"
   ]
  },
  {
   "cell_type": "code",
   "execution_count": null,
   "metadata": {},
   "outputs": [],
   "source": [
    "# 测试4: 创建SparkSession（带超时）\n",
    "import threading\n",
    "import time\n",
    "from pyspark.sql import SparkSession\n",
    "\n",
    "# 定义创建SparkSession的函数\n",
    "def create_spark_session(result_dict):\n",
    "    try:\n",
    "        print(\"正在创建SparkSession...\")\n",
    "        spark = SparkSession.builder \\\n",
    "            .appName(\"DebugConnectionWithTimeout\") \\\n",
    "            .master(\"spark://spark-master:7077\") \\\n",
    "            .config(\"spark.sql.adaptive.enabled\", \"true\") \\\n",
    "            .config(\"spark.sql.adaptive.coalescePartitions.enabled\", \"true\") \\\n",
    "            .config(\"spark.network.timeout\", \"120s\") \\\n",
    "            .config(\"spark.sql.adaptive.coalescePartitions.enabled\", \"true\") \\\n",
    "            .getOrCreate()\n",
    "        \n",
    "        result_dict['status'] = 'success'\n",
    "        result_dict['spark'] = spark\n",
    "        print(\"✅ SparkSession创建成功\")\n",
    "        print(f\"Spark版本: {spark.version}\")\n",
    "        print(f\"应用ID: {spark.sparkContext.applicationId}\")\n",
    "        \n",
    "    except Exception as e:\n",
    "        result_dict['status'] = 'error'\n",
    "        result_dict['error'] = e\n",
    "        print(f\"❌ 创建SparkSession时出错: {e}\")\n",
    "\n",
    "# 创建结果字典\n",
    "result = {}\n",
    "\n",
    "# 在单独的线程中创建SparkSession\n",
    "thread = threading.Thread(target=create_spark_session, args=(result,))\n",
    "thread.start()\n",
    "\n",
    "# 等待最多60秒\n",
    "timeout = 60\n",
    "start_time = time.time()\n",
    "\n",
    "while thread.is_alive() and (time.time() - start_time) < timeout:\n",
    "    print(f\"等待SparkSession创建... ({int(time.time() - start_time)}s)\")\n",
    "    time.sleep(5)\n",
    "\n",
    "if thread.is_alive():\n",
    "    print(\"❌ 创建SparkSession超时\")\n",
    "else:\n",
    "    if result.get('status') == 'success':\n",
    "        # 创建简单的DataFrame\n",
    "        spark = result['spark']\n",
    "        print(\"\\n创建测试DataFrame...\")\n",
    "        data = [(\"Alice\", 25), (\"Bob\", 30), (\"Charlie\", 35)]\n",
    "        columns = [\"Name\", \"Age\"]\n",
    "        df = spark.createDataFrame(data, columns)\n",
    "        \n",
    "        print(\"DataFrame内容:\")\n",
    "        df.show()\n",
    "        \n",
    "        print(\"正在停止SparkSession...\")\n",
    "        spark.stop()\n",
    "        print(\"✅ SparkSession已停止\")\n",
    "    elif result.get('status') == 'error':\n",
    "        print(f\"❌ 创建SparkSession时出错: {result['error']}\")"
   ]
  }
 ],
 "metadata": {
  "kernelspec": {
   "display_name": "Python 3",
   "language": "python",
   "name": "python3"
  },
  "language_info": {
   "codemirror_mode": {
    "name": "ipython",
    "version": 3
   },
   "file_extension": ".py",
   "mimetype": "text/x-python",
   "name": "python",
   "nbconvert_exporter": "python",
   "pygments_lexer": "ipython3",
   "version": "3.11.6"
  }
 },
 "nbformat": 4,
 "nbformat_minor": 4
}